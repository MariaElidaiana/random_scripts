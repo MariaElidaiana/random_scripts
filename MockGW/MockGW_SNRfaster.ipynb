{
 "cells": [
  {
   "cell_type": "code",
   "execution_count": 1,
   "id": "3370509b",
   "metadata": {},
   "outputs": [],
   "source": [
    "#!/usr/bin/python\n",
    "\n",
    "import time\n",
    "import numpy as np\n",
    "from scipy.optimize import fsolve\n",
    "from scipy.constants import c, pi, G\n",
    "import scipy.integrate as integrate\n",
    "import scipy.interpolate as scipy_interpolate\n",
    "import astropy.units as u\n",
    "import random\n",
    "\n",
    "from numba import jit, njit\n",
    "\n",
    "#For measuring execution time \n",
    "begin = time.time()\n",
    "\n",
    "#Global constants  \n",
    "c *= 1e-3 #convert speed of light from m/s to km/s\n",
    "G *= 1e-9*5.028e31 #convert G from m^3 kg^-1 s^-2 to km^3 M_sun^-1 s^-2"
   ]
  },
  {
   "cell_type": "code",
   "execution_count": 2,
   "id": "d00e2286",
   "metadata": {},
   "outputs": [],
   "source": [
    "### Chirp mass\n",
    "\n",
    "@njit\n",
    "def obs_chirp_mass(m1,m2,z):\n",
    "    M_c = (1.+z) * (m1*m2)**(3./5) / (m1+m2)**(1./5)\n",
    "    return M_c\n",
    "\n",
    "### Observable mass \n",
    "@njit\n",
    "def obs_total_mass(m1,m2,z):\n",
    "    M_obs = (1.+z) * (m1 + m2)\n",
    "    return M_obs\n",
    "\n",
    "### Random masses m1 and m2\n",
    "def get_m1s(sd, Nsize):\n",
    "    np.random.seed(sd)\n",
    "    m1s_arr = np.random.uniform(low=1, high=2.5, size=Nsize)\n",
    "    return m1s_arr\n",
    "\n",
    "def get_m2s(sd, Nsize):\n",
    "    np.random.seed(sd)\n",
    "    m2s_arr = np.random.uniform(low=1, high=2.5, size=Nsize)\n",
    "    return m2s_arr\n"
   ]
  },
  {
   "cell_type": "code",
   "execution_count": 3,
   "id": "a8226867",
   "metadata": {},
   "outputs": [],
   "source": [
    "### sky localization angles\n",
    "\n",
    "def get_thetas(sd, Nsize):\n",
    "    np.random.seed(sd)\n",
    "    thetas_arr = np.random.uniform(low=0, high=pi, size=Nsize)\n",
    "    return thetas_arr \n",
    "   \n",
    "def get_phis(sd, Nsize):\n",
    "    np.random.seed(sd)\n",
    "    phis_arr = np.random.uniform(low=0, high=2*pi, size=Nsize)\n",
    "    return phis_arr\n",
    "\n",
    "### polarization angle    \n",
    "def get_psis(sd, Nsize):\n",
    "    np.random.seed(sd)\n",
    "    psis_arr = np.random.uniform(low=0, high=2*pi, size=Nsize)\n",
    "    return psis_arr\n",
    "\n",
    "### inclination angle \n",
    "def get_iotas(sd, Nsize):\n",
    "    np.random.seed(sd)\n",
    "    iotas_arr = np.random.uniform(low=0, high=pi, size=Nsize)\n",
    "    return iotas_arr\n"
   ]
  },
  {
   "cell_type": "code",
   "execution_count": 4,
   "id": "2d2e6646",
   "metadata": {},
   "outputs": [],
   "source": [
    "# Antenna pattern functions with angles:(theta, phi)[sky localization], psi(polarization) and iota(inclination)  \n",
    "# Following arXiv:2205.11221\n",
    "\n",
    "#For L-shaped interferometers (LIGO, VIRGO, KAGRA and CE), the antenna pattern functions are (eq.19):\n",
    "@njit\n",
    "def Fp_i_square(th, ph, ps, k=1./2):\n",
    "    t1 = (1.+np.cos(th)**2) * np.cos(2*ph) * np.cos(2*ps)\n",
    "    t2 = 2 * np.cos(th) * np.sin(2*ph) * np.sin(2*ps) \n",
    "    return k * (t1 - t2)\n",
    "\n",
    "@njit\n",
    "def Fx_i_square(th, ph, ps, k=1./2):\n",
    "    t1 = (1.+np.cos(th)**2) * np.cos(2*ph) * np.sin(2*ps)\n",
    "    t2 = 2 * np.cos(th) * np.sin(2*ph) * np.cos(2*ps) \n",
    "    return k * (t1 + t2)\n",
    "\n",
    "#For the triangle-shaped ET antenna, the functions include a extra factor srtq(3)/2\n",
    "#and the phi angles are replaced by phi + 2pi/3 and phi + 4pi/3\n",
    "#Then, we can call as:\n",
    "# Fp_i_square(k=np.sqrt(3)/4., th, ph+(2*pi/3.), ps)\n",
    "# Fx_i_square(k=np.sqrt(3)/4., th, ph+(4*pi/3.), ps)\n",
    "\n",
    "#L-shaped (eq.23)\n",
    "@njit\n",
    "def F_i_squareL(th, ph, ps, io, k=1./2): #theta, phi, psi, iota\n",
    "    fct = ((1.+np.cos(io)**2)/2.)**2\n",
    "    return fct * Fp_i_square(th, ph, ps, k)**2 + np.cos(io)**2 * Fx_i_square(th, ph, ps, k)**2\n",
    "\n",
    "#Triangle-shaped (eq.23)\n",
    "@njit\n",
    "def F_i_squareT(th, ph, ps, io, k=np.sqrt(3)/4.): #theta, phi, psi, iota\n",
    "    fct = ((1.+np.cos(io)**2)/2.)**2\n",
    "    return fct * Fp_i_square(th, ph, ps, k)**2 + np.cos(io)**2 * Fx_i_square(th, ph, ps, k)**2\n",
    "\n",
    "# Functions and integrals to get the SNR. Following arXiv:2205.11221\n",
    "\n",
    "### One-sided noise power spectral density eq.18\n",
    "@njit\n",
    "def Sh(f,sel_det): \n",
    "    if sel_det=='ET':\n",
    "        sh = np.interp(f, f_ET, Sh_ET) #Einstein Telescope \n",
    "    elif sel_det=='CE':\n",
    "        sh = np.interp(f, f_CE, Sh_CE) #Cosmic Explorer\n",
    "    elif sel_det=='CES':\n",
    "        sh = np.interp(f, f_CES, Sh_CES) #Cosmis Explorer South\n",
    "    return sh\n",
    "\n",
    "### Integral term of eq.22 \n",
    "@njit\n",
    "def freq_integrand(f,sel_det):\n",
    "    return f**(-7/3.) / Sh(f,sel_det)**2\n",
    "\n",
    "### Integration limits \n",
    "@njit\n",
    "def f_upper(m1, m2, z):\n",
    "    f_up = c**3 / (6*np.sqrt(6)* pi * obs_total_mass(m1,m2,z) * G)\n",
    "    return f_up\n",
    "\n",
    "### The SNR computation (eq.22) for triangle-shaped \n",
    "def SNR_rho2T(z, dl, m1, m2, th, ph, ps, io, sel_det):\n",
    "    #luminosity distance must be in km\n",
    "    fct1 = 5 * (G*obs_chirp_mass(m1,m2,z))**(5/3) * F_i_squareT(th, ph, ps, io, k=np.sqrt(3)/4.)\n",
    "    fct2 = 6 * c**3 * pi**(4/3) * dl**2\n",
    "    f_lo = 1\n",
    "    f_up = f_upper(m1, m2, z)\n",
    "    f_int = integrate.quad(freq_integrand, f_lo, f_up, args=(sel_det,))[0]\n",
    "    return (fct1/fct2) * f_int\n",
    "\n",
    "### The SNR computation L-shaped \n",
    "def SNR_rho2L(z, dl, m1, m2, th, ph, ps, io, sel_det):\n",
    "    #luminosity distance must be in km\n",
    "    fct1 = 5 * (G*obs_chirp_mass(m1,m2,z))**(5/3) * F_i_squareL(th, ph, ps, io, k=1/2.)\n",
    "    fct2 = 6 * c**3 * pi**(4/3) * dl**2\n",
    "    f_lo = 1\n",
    "    f_up = f_upper(m1, m2, z)\n",
    "    f_int = integrate.quad(freq_integrand, f_lo, f_up, args=(sel_det,))[0]\n",
    "    return (fct1/fct2) * f_int\n"
   ]
  },
  {
   "cell_type": "code",
   "execution_count": 5,
   "id": "1cb9bb17",
   "metadata": {},
   "outputs": [],
   "source": [
    "#Loading the sensitivities \n",
    "path = '/Users/mariamac/Dropbox/projects2021/MockGW_plots/' \n",
    "\n",
    "### Get the ET sensitivities \n",
    "\n",
    "# For more details in ET sensitivities, see: https://www.et-gw.eu/index.php/etsensitivities\n",
    "# File downloaded: https://apps.et-gw.eu/tds/?content=3&r=14065\n",
    "ETfile = 'gw_sensitivity_curves/ET-0000A-18_ETDSensitivityCurveTxtFile.txt' \n",
    "ET_sensitivity = np.genfromtxt(path+ETfile, names=['freq', 'et_dlf', 'et_dhf','et_dsum']) #freq in Hz\n",
    "\n",
    "### Get the CE sensitivities \n",
    "\n",
    "# CE sensitivities from https://dcc.cosmicexplorer.org/cgi-bin/DocDB/ShowDocument?docid=T2000017\n",
    "# See https://arxiv.org/abs/2201.10668 or https://arxiv.org/abs/2109.09882\n",
    "# The baseline 40 km detector\n",
    "CE40file = 'gw_sensitivity_curves/ce_strain/cosmic_explorer_strain.txt'\n",
    "CE40_sensitivity = np.genfromtxt(path+CE40file, names=['freq', 'ce_40km']) \n",
    "\n",
    "# The baseline 20 km detector (\"compact binary tuned\")\n",
    "# Cosmic Explorer South is assumed to be a 20 km postmerger optimized detector\n",
    "# See section 2.1 and 3.1 of https://arxiv.org/pdf/2201.10668.pdf\n",
    "CE20file = 'gw_sensitivity_curves/ce_strain/cosmic_explorer_20km_pm_strain.txt'\n",
    "CE20_sensitivity = np.genfromtxt(path+CE20file, names=['freq', 'ce_20km']) \n"
   ]
  },
  {
   "cell_type": "code",
   "execution_count": 6,
   "id": "ae9eaa9b",
   "metadata": {},
   "outputs": [],
   "source": [
    "#renaming frequency (f) and sensitivity (S_h) for ET\n",
    "f_ET, Sh_ET = ET_sensitivity['freq'], ET_sensitivity['et_dsum']\n",
    "\n",
    "#For CE\n",
    "f_CE, Sh_CE = CE40_sensitivity['freq'], CE40_sensitivity['ce_40km']\n",
    "\n",
    "#For CES\n",
    "f_CES, Sh_CES = CE20_sensitivity['freq'], CE20_sensitivity['ce_20km']\n"
   ]
  },
  {
   "cell_type": "code",
   "execution_count": 7,
   "id": "aae87022",
   "metadata": {},
   "outputs": [
    {
     "name": "stdout",
     "output_type": "stream",
     "text": [
      "Sample size =  1000\n",
      "CPU times: user 1.63 s, sys: 138 ms, total: 1.77 s\n",
      "Wall time: 1.85 s\n"
     ]
    }
   ],
   "source": [
    "%%time\n",
    "\n",
    "strfile = 'dL_lcdm_md14_inv_uni_1yr.txt' #DEmodel = 'LCDM'\n",
    "\n",
    "data = np.genfromtxt(path+strfile) \n",
    "\n",
    "#redshifts and luminosity distance \n",
    "z  = data[:,0]\n",
    "dL = data[:,1] #in Gpc\n",
    "\n",
    "### take a subsample for testing\n",
    "idx=random.sample(range(len(z)),1000)\n",
    "z = z[idx]\n",
    "dL = dL[idx]\n",
    "dL_km = dL*u.Gpc.to(u.km) #dL in km\n",
    "\n",
    "#sample size\n",
    "N=len(z)\n",
    "print('Sample size = ', N)\n",
    "\n",
    "#random masses\n",
    "m1s = get_m1s(10, N)\n",
    "m2s = get_m2s(11, N)\n",
    "\n",
    "#random angles\n",
    "thetas = get_thetas(12, N)\n",
    "phis   = get_phis(13, N)\n",
    "psis   = get_psis(14, N)\n",
    "iotas  = get_iotas(15, N)\n",
    "\n",
    "#get integration limits\n",
    "#f_upp = f_upper(m1s, m2s, z) \n",
    "#f_low = np.ones(len(f_upp))"
   ]
  },
  {
   "cell_type": "code",
   "execution_count": 8,
   "id": "4f507d92",
   "metadata": {},
   "outputs": [
    {
     "name": "stderr",
     "output_type": "stream",
     "text": [
      "/Users/mariamac/miniconda3/envs/mariaenv/lib/python3.7/site-packages/ipykernel_launcher.py:66: IntegrationWarning: The occurrence of roundoff error is detected, which prevents \n",
      "  the requested tolerance from being achieved.  The error may be \n",
      "  underestimated.\n",
      "/Users/mariamac/miniconda3/envs/mariaenv/lib/python3.7/site-packages/ipykernel_launcher.py:66: IntegrationWarning: The maximum number of subdivisions (50) has been achieved.\n",
      "  If increasing the limit yields no improvement it is advised to analyze \n",
      "  the integrand in order to determine the difficulties.  If the position of a \n",
      "  local difficulty can be determined (singularity, discontinuity) one will \n",
      "  probably gain from splitting up the interval and calling the integrator \n",
      "  on the subranges.  Perhaps a special-purpose integrator should be used.\n"
     ]
    },
    {
     "name": "stdout",
     "output_type": "stream",
     "text": [
      "CPU times: user 16 s, sys: 89.7 ms, total: 16.1 s\n",
      "Wall time: 16.2 s\n"
     ]
    }
   ],
   "source": [
    "%%time\n",
    "\n",
    "#Compute SNR ET\n",
    "SNRs_rho2_ET = []\n",
    "snr1, snr2, snr3 = [],[],[]\n",
    "for i in range(len(z)):\n",
    "    snr1 = SNR_rho2T(z[i], dL_km[i], m1s[i], m2s[i], thetas[i], phis[i], psis[i], iotas[i], 'ET')\n",
    "    snr2 = SNR_rho2T(z[i], dL_km[i], m1s[i], m2s[i], thetas[i], phis[i]+(2*pi/3.), psis[i], iotas[i], 'ET')\n",
    "    snr3 = SNR_rho2T(z[i], dL_km[i], m1s[i], m2s[i], thetas[i], phis[i]+(4*pi/3.), psis[i], iotas[i], 'ET')\n",
    "    SNRs_rho2_ET.append(snr1+snr2+snr3) #SNRs_ET = np.sqrt(SNRs_rho2_ET)\n",
    "\n",
    "SNRs_rho2_ET = np.array(SNRs_rho2_ET)    "
   ]
  },
  {
   "cell_type": "code",
   "execution_count": 9,
   "id": "70d666f0",
   "metadata": {},
   "outputs": [
    {
     "name": "stderr",
     "output_type": "stream",
     "text": [
      "/Users/mariamac/miniconda3/envs/mariaenv/lib/python3.7/site-packages/ipykernel_launcher.py:76: IntegrationWarning: The maximum number of subdivisions (50) has been achieved.\n",
      "  If increasing the limit yields no improvement it is advised to analyze \n",
      "  the integrand in order to determine the difficulties.  If the position of a \n",
      "  local difficulty can be determined (singularity, discontinuity) one will \n",
      "  probably gain from splitting up the interval and calling the integrator \n",
      "  on the subranges.  Perhaps a special-purpose integrator should be used.\n",
      "/Users/mariamac/miniconda3/envs/mariaenv/lib/python3.7/site-packages/ipykernel_launcher.py:76: IntegrationWarning: The occurrence of roundoff error is detected, which prevents \n",
      "  the requested tolerance from being achieved.  The error may be \n",
      "  underestimated.\n"
     ]
    },
    {
     "name": "stdout",
     "output_type": "stream",
     "text": [
      "CPU times: user 5.27 s, sys: 35.9 ms, total: 5.3 s\n",
      "Wall time: 5.31 s\n"
     ]
    }
   ],
   "source": [
    "%%time\n",
    "\n",
    "#Compute SNR CE\n",
    "SNRs_rho2_CE = []\n",
    "snr1 = []\n",
    "for i in range(len(z)):\n",
    "    snr1 = SNR_rho2L(z[i], dL_km[i], m1s[i], m2s[i], thetas[i], phis[i], psis[i], iotas[i], 'CE')\n",
    "    SNRs_rho2_CE.append(snr1) # SNRs_CE = np.sqrt(SNRs_rho2_CE)\n",
    "\n",
    "SNRs_rho2_CE = np.array(SNRs_rho2_CE)"
   ]
  },
  {
   "cell_type": "code",
   "execution_count": 10,
   "id": "a8b179d1",
   "metadata": {},
   "outputs": [
    {
     "name": "stderr",
     "output_type": "stream",
     "text": [
      "/Users/mariamac/miniconda3/envs/mariaenv/lib/python3.7/site-packages/ipykernel_launcher.py:76: IntegrationWarning: The maximum number of subdivisions (50) has been achieved.\n",
      "  If increasing the limit yields no improvement it is advised to analyze \n",
      "  the integrand in order to determine the difficulties.  If the position of a \n",
      "  local difficulty can be determined (singularity, discontinuity) one will \n",
      "  probably gain from splitting up the interval and calling the integrator \n",
      "  on the subranges.  Perhaps a special-purpose integrator should be used.\n",
      "/Users/mariamac/miniconda3/envs/mariaenv/lib/python3.7/site-packages/ipykernel_launcher.py:76: IntegrationWarning: The occurrence of roundoff error is detected, which prevents \n",
      "  the requested tolerance from being achieved.  The error may be \n",
      "  underestimated.\n"
     ]
    },
    {
     "name": "stdout",
     "output_type": "stream",
     "text": [
      "CPU times: user 5.09 s, sys: 16.9 ms, total: 5.11 s\n",
      "Wall time: 5.11 s\n"
     ]
    }
   ],
   "source": [
    "%%time\n",
    "\n",
    "#Compute SNR CES\n",
    "SNRs_rho2_CES = []\n",
    "snr1 = []\n",
    "for i in range(len(z)):\n",
    "    snr1 = SNR_rho2L(z[i], dL_km[i], m1s[i], m2s[i], thetas[i], phis[i], psis[i], iotas[i], 'CES')\n",
    "    SNRs_rho2_CES.append(snr1) # SNRs_CES = np.sqrt(SNRs_rho2_CES) \n",
    "\n",
    "SNRs_rho2_CES = np.array(SNRs_rho2_CES)    "
   ]
  },
  {
   "cell_type": "code",
   "execution_count": 11,
   "id": "25b81c9f",
   "metadata": {},
   "outputs": [
    {
     "name": "stdout",
     "output_type": "stream",
     "text": [
      "CPU times: user 197 µs, sys: 192 µs, total: 389 µs\n",
      "Wall time: 308 µs\n"
     ]
    }
   ],
   "source": [
    "%%time \n",
    "#The final SNRs \n",
    "\n",
    "ETsnr  = np.sqrt(SNRs_rho2_ET)\n",
    "CEsnr  = np.sqrt(SNRs_rho2_CE)\n",
    "CESsnr = np.sqrt(SNRs_rho2_CES)\n",
    "Allsnr = np.sqrt(SNRs_rho2_ET+SNRs_rho2_CE+SNRs_rho2_CES)\n"
   ]
  },
  {
   "cell_type": "code",
   "execution_count": 12,
   "id": "335d0a45",
   "metadata": {},
   "outputs": [
    {
     "name": "stdout",
     "output_type": "stream",
     "text": [
      "Total time:  0.47612774769465127 min\n"
     ]
    }
   ],
   "source": [
    "import time\n",
    "#Printing running time\n",
    "end = time.time()\n",
    "print('Total time: ', (end - begin)/60., 'min')\n"
   ]
  }
 ],
 "metadata": {
  "kernelspec": {
   "display_name": "Python 3",
   "language": "python",
   "name": "python3"
  },
  "language_info": {
   "codemirror_mode": {
    "name": "ipython",
    "version": 3
   },
   "file_extension": ".py",
   "mimetype": "text/x-python",
   "name": "python",
   "nbconvert_exporter": "python",
   "pygments_lexer": "ipython3",
   "version": "3.7.7"
  }
 },
 "nbformat": 4,
 "nbformat_minor": 5
}
